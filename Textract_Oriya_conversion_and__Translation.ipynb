{
  "nbformat": 4,
  "nbformat_minor": 0,
  "metadata": {
    "colab": {
      "provenance": [],
      "authorship_tag": "ABX9TyOfWwjhU3H/OzKu0f6xTdiu"
    },
    "kernelspec": {
      "name": "python3",
      "display_name": "Python 3"
    },
    "language_info": {
      "name": "python"
    }
  },
  "cells": [
    {
      "cell_type": "code",
      "source": [
        "!python -m pip install -U pip==24.0"
      ],
      "metadata": {
        "colab": {
          "base_uri": "https://localhost:8080/"
        },
        "id": "ROBh5AaomZA5",
        "outputId": "397e76be-3d99-4ec2-902e-54217cb056be"
      },
      "execution_count": null,
      "outputs": [
        {
          "output_type": "stream",
          "name": "stdout",
          "text": [
            "Collecting pip==24.0\n",
            "  Downloading pip-24.0-py3-none-any.whl.metadata (3.6 kB)\n",
            "Downloading pip-24.0-py3-none-any.whl (2.1 MB)\n",
            "\u001b[?25l   \u001b[90m━━━━━━━━━━━━━━━━━━━━━━━━━━━━━━━━━━━━━━━━\u001b[0m \u001b[32m0.0/2.1 MB\u001b[0m \u001b[31m?\u001b[0m eta \u001b[36m-:--:--\u001b[0m\r\u001b[2K   \u001b[91m━━━━━━━━━━━━━━━━━━━━━━━━━━━━━━━━━━━━\u001b[0m\u001b[90m╺\u001b[0m\u001b[90m━━━\u001b[0m \u001b[32m1.9/2.1 MB\u001b[0m \u001b[31m57.8 MB/s\u001b[0m eta \u001b[36m0:00:01\u001b[0m\r\u001b[2K   \u001b[90m━━━━━━━━━━━━━━━━━━━━━━━━━━━━━━━━━━━━━━━━\u001b[0m \u001b[32m2.1/2.1 MB\u001b[0m \u001b[31m34.8 MB/s\u001b[0m eta \u001b[36m0:00:00\u001b[0m\n",
            "\u001b[?25hInstalling collected packages: pip\n",
            "  Attempting uninstall: pip\n",
            "    Found existing installation: pip 24.1\n",
            "    Uninstalling pip-24.1:\n",
            "      Successfully uninstalled pip-24.1\n",
            "Successfully installed pip-24.0\n"
          ]
        }
      ]
    },
    {
      "cell_type": "code",
      "source": [
        "!pip install textract\n",
        "!apt-get install tesseract-ocr\n",
        "!apt-get install libtesseract-dev\n",
        "!pip install pytesseract\n",
        "!apt-get install poppler-utils\n",
        "!pip install googletrans==4.0.0-rc1 textract\n",
        "!apt-get install tesseract-ocr-ory"
      ],
      "metadata": {
        "colab": {
          "base_uri": "https://localhost:8080/"
        },
        "id": "0n63d5JPmIZB",
        "outputId": "9448e48e-107b-4309-f1be-96d518d325cc"
      },
      "execution_count": null,
      "outputs": [
        {
          "output_type": "stream",
          "name": "stdout",
          "text": [
            "Requirement already satisfied: textract in /usr/local/lib/python3.10/dist-packages (1.6.5)\n",
            "Requirement already satisfied: argcomplete~=1.10.0 in /usr/local/lib/python3.10/dist-packages (from textract) (1.10.3)\n",
            "Requirement already satisfied: beautifulsoup4~=4.8.0 in /usr/local/lib/python3.10/dist-packages (from textract) (4.8.2)\n",
            "Requirement already satisfied: chardet==3.* in /usr/local/lib/python3.10/dist-packages (from textract) (3.0.4)\n",
            "Requirement already satisfied: docx2txt~=0.8 in /usr/local/lib/python3.10/dist-packages (from textract) (0.8)\n",
            "Requirement already satisfied: extract-msg<=0.29.* in /usr/local/lib/python3.10/dist-packages (from textract) (0.28.7)\n",
            "Requirement already satisfied: pdfminer.six==20191110 in /usr/local/lib/python3.10/dist-packages (from textract) (20191110)\n",
            "Requirement already satisfied: python-pptx~=0.6.18 in /usr/local/lib/python3.10/dist-packages (from textract) (0.6.23)\n",
            "Requirement already satisfied: six~=1.12.0 in /usr/local/lib/python3.10/dist-packages (from textract) (1.12.0)\n",
            "Requirement already satisfied: SpeechRecognition~=3.8.1 in /usr/local/lib/python3.10/dist-packages (from textract) (3.8.1)\n",
            "Requirement already satisfied: xlrd~=1.2.0 in /usr/local/lib/python3.10/dist-packages (from textract) (1.2.0)\n",
            "Requirement already satisfied: pycryptodome in /usr/local/lib/python3.10/dist-packages (from pdfminer.six==20191110->textract) (3.21.0)\n",
            "Requirement already satisfied: sortedcontainers in /usr/local/lib/python3.10/dist-packages (from pdfminer.six==20191110->textract) (2.4.0)\n",
            "Requirement already satisfied: soupsieve>=1.2 in /usr/local/lib/python3.10/dist-packages (from beautifulsoup4~=4.8.0->textract) (2.6)\n",
            "Requirement already satisfied: imapclient==2.1.0 in /usr/local/lib/python3.10/dist-packages (from extract-msg<=0.29.*->textract) (2.1.0)\n",
            "Requirement already satisfied: olefile>=0.46 in /usr/local/lib/python3.10/dist-packages (from extract-msg<=0.29.*->textract) (0.47)\n",
            "Requirement already satisfied: tzlocal>=2.1 in /usr/local/lib/python3.10/dist-packages (from extract-msg<=0.29.*->textract) (5.2)\n",
            "Requirement already satisfied: compressed-rtf>=1.0.6 in /usr/local/lib/python3.10/dist-packages (from extract-msg<=0.29.*->textract) (1.0.6)\n",
            "Requirement already satisfied: ebcdic>=1.1.1 in /usr/local/lib/python3.10/dist-packages (from extract-msg<=0.29.*->textract) (1.1.1)\n",
            "Requirement already satisfied: lxml>=3.1.0 in /usr/local/lib/python3.10/dist-packages (from python-pptx~=0.6.18->textract) (4.9.4)\n",
            "Requirement already satisfied: Pillow>=3.3.2 in /usr/local/lib/python3.10/dist-packages (from python-pptx~=0.6.18->textract) (10.4.0)\n",
            "Requirement already satisfied: XlsxWriter>=0.5.7 in /usr/local/lib/python3.10/dist-packages (from python-pptx~=0.6.18->textract) (3.2.0)\n",
            "\u001b[33mDEPRECATION: textract 1.6.5 has a non-standard dependency specifier extract-msg<=0.29.*. pip 24.1 will enforce this behaviour change. A possible replacement is to upgrade to a newer version of textract or contact the author to suggest that they release a version with a conforming dependency specifiers. Discussion can be found at https://github.com/pypa/pip/issues/12063\u001b[0m\u001b[33m\n",
            "Reading package lists... Done\n",
            "Building dependency tree... Done\n",
            "Reading state information... Done\n",
            "tesseract-ocr is already the newest version (4.1.1-2.1build1).\n",
            "0 upgraded, 0 newly installed, 0 to remove and 49 not upgraded.\n",
            "Reading package lists... Done\n",
            "Building dependency tree... Done\n",
            "Reading state information... Done\n",
            "libtesseract-dev is already the newest version (4.1.1-2.1build1).\n",
            "0 upgraded, 0 newly installed, 0 to remove and 49 not upgraded.\n",
            "Requirement already satisfied: pytesseract in /usr/local/lib/python3.10/dist-packages (0.3.13)\n",
            "Requirement already satisfied: packaging>=21.3 in /usr/local/lib/python3.10/dist-packages (from pytesseract) (24.1)\n",
            "Requirement already satisfied: Pillow>=8.0.0 in /usr/local/lib/python3.10/dist-packages (from pytesseract) (10.4.0)\n",
            "\u001b[33mDEPRECATION: textract 1.6.5 has a non-standard dependency specifier extract-msg<=0.29.*. pip 24.1 will enforce this behaviour change. A possible replacement is to upgrade to a newer version of textract or contact the author to suggest that they release a version with a conforming dependency specifiers. Discussion can be found at https://github.com/pypa/pip/issues/12063\u001b[0m\u001b[33m\n",
            "Reading package lists... Done\n",
            "Building dependency tree... Done\n",
            "Reading state information... Done\n",
            "poppler-utils is already the newest version (22.02.0-2ubuntu0.5).\n",
            "0 upgraded, 0 newly installed, 0 to remove and 49 not upgraded.\n",
            "Requirement already satisfied: googletrans==4.0.0-rc1 in /usr/local/lib/python3.10/dist-packages (4.0.0rc1)\n",
            "Requirement already satisfied: textract in /usr/local/lib/python3.10/dist-packages (1.6.5)\n",
            "Requirement already satisfied: httpx==0.13.3 in /usr/local/lib/python3.10/dist-packages (from googletrans==4.0.0-rc1) (0.13.3)\n",
            "Requirement already satisfied: certifi in /usr/local/lib/python3.10/dist-packages (from httpx==0.13.3->googletrans==4.0.0-rc1) (2024.8.30)\n",
            "Requirement already satisfied: hstspreload in /usr/local/lib/python3.10/dist-packages (from httpx==0.13.3->googletrans==4.0.0-rc1) (2024.10.1)\n",
            "Requirement already satisfied: sniffio in /usr/local/lib/python3.10/dist-packages (from httpx==0.13.3->googletrans==4.0.0-rc1) (1.3.1)\n",
            "Requirement already satisfied: chardet==3.* in /usr/local/lib/python3.10/dist-packages (from httpx==0.13.3->googletrans==4.0.0-rc1) (3.0.4)\n",
            "Requirement already satisfied: idna==2.* in /usr/local/lib/python3.10/dist-packages (from httpx==0.13.3->googletrans==4.0.0-rc1) (2.10)\n",
            "Requirement already satisfied: rfc3986<2,>=1.3 in /usr/local/lib/python3.10/dist-packages (from httpx==0.13.3->googletrans==4.0.0-rc1) (1.5.0)\n",
            "Requirement already satisfied: httpcore==0.9.* in /usr/local/lib/python3.10/dist-packages (from httpx==0.13.3->googletrans==4.0.0-rc1) (0.9.1)\n",
            "Requirement already satisfied: h11<0.10,>=0.8 in /usr/local/lib/python3.10/dist-packages (from httpcore==0.9.*->httpx==0.13.3->googletrans==4.0.0-rc1) (0.9.0)\n",
            "Requirement already satisfied: h2==3.* in /usr/local/lib/python3.10/dist-packages (from httpcore==0.9.*->httpx==0.13.3->googletrans==4.0.0-rc1) (3.2.0)\n",
            "Requirement already satisfied: hyperframe<6,>=5.2.0 in /usr/local/lib/python3.10/dist-packages (from h2==3.*->httpcore==0.9.*->httpx==0.13.3->googletrans==4.0.0-rc1) (5.2.0)\n",
            "Requirement already satisfied: hpack<4,>=3.0 in /usr/local/lib/python3.10/dist-packages (from h2==3.*->httpcore==0.9.*->httpx==0.13.3->googletrans==4.0.0-rc1) (3.0.0)\n",
            "Requirement already satisfied: argcomplete~=1.10.0 in /usr/local/lib/python3.10/dist-packages (from textract) (1.10.3)\n",
            "Requirement already satisfied: beautifulsoup4~=4.8.0 in /usr/local/lib/python3.10/dist-packages (from textract) (4.8.2)\n",
            "Requirement already satisfied: docx2txt~=0.8 in /usr/local/lib/python3.10/dist-packages (from textract) (0.8)\n",
            "Requirement already satisfied: extract-msg<=0.29.* in /usr/local/lib/python3.10/dist-packages (from textract) (0.28.7)\n",
            "Requirement already satisfied: pdfminer.six==20191110 in /usr/local/lib/python3.10/dist-packages (from textract) (20191110)\n",
            "Requirement already satisfied: python-pptx~=0.6.18 in /usr/local/lib/python3.10/dist-packages (from textract) (0.6.23)\n",
            "Requirement already satisfied: six~=1.12.0 in /usr/local/lib/python3.10/dist-packages (from textract) (1.12.0)\n",
            "Requirement already satisfied: SpeechRecognition~=3.8.1 in /usr/local/lib/python3.10/dist-packages (from textract) (3.8.1)\n",
            "Requirement already satisfied: xlrd~=1.2.0 in /usr/local/lib/python3.10/dist-packages (from textract) (1.2.0)\n",
            "Requirement already satisfied: pycryptodome in /usr/local/lib/python3.10/dist-packages (from pdfminer.six==20191110->textract) (3.21.0)\n",
            "Requirement already satisfied: sortedcontainers in /usr/local/lib/python3.10/dist-packages (from pdfminer.six==20191110->textract) (2.4.0)\n",
            "Requirement already satisfied: soupsieve>=1.2 in /usr/local/lib/python3.10/dist-packages (from beautifulsoup4~=4.8.0->textract) (2.6)\n",
            "Requirement already satisfied: imapclient==2.1.0 in /usr/local/lib/python3.10/dist-packages (from extract-msg<=0.29.*->textract) (2.1.0)\n",
            "Requirement already satisfied: olefile>=0.46 in /usr/local/lib/python3.10/dist-packages (from extract-msg<=0.29.*->textract) (0.47)\n",
            "Requirement already satisfied: tzlocal>=2.1 in /usr/local/lib/python3.10/dist-packages (from extract-msg<=0.29.*->textract) (5.2)\n",
            "Requirement already satisfied: compressed-rtf>=1.0.6 in /usr/local/lib/python3.10/dist-packages (from extract-msg<=0.29.*->textract) (1.0.6)\n",
            "Requirement already satisfied: ebcdic>=1.1.1 in /usr/local/lib/python3.10/dist-packages (from extract-msg<=0.29.*->textract) (1.1.1)\n",
            "Requirement already satisfied: lxml>=3.1.0 in /usr/local/lib/python3.10/dist-packages (from python-pptx~=0.6.18->textract) (4.9.4)\n",
            "Requirement already satisfied: Pillow>=3.3.2 in /usr/local/lib/python3.10/dist-packages (from python-pptx~=0.6.18->textract) (10.4.0)\n",
            "Requirement already satisfied: XlsxWriter>=0.5.7 in /usr/local/lib/python3.10/dist-packages (from python-pptx~=0.6.18->textract) (3.2.0)\n",
            "\u001b[33mDEPRECATION: textract 1.6.5 has a non-standard dependency specifier extract-msg<=0.29.*. pip 24.1 will enforce this behaviour change. A possible replacement is to upgrade to a newer version of textract or contact the author to suggest that they release a version with a conforming dependency specifiers. Discussion can be found at https://github.com/pypa/pip/issues/12063\u001b[0m\u001b[33m\n",
            "Reading package lists... Done\n",
            "Building dependency tree... Done\n",
            "Reading state information... Done\n",
            "E: Unable to locate package tesseract-ocr-ory\n"
          ]
        }
      ]
    },
    {
      "cell_type": "code",
      "source": [
        "import textract\n",
        "from googletrans import Translator"
      ],
      "metadata": {
        "id": "z8iSWtEqv5ah"
      },
      "execution_count": null,
      "outputs": []
    },
    {
      "cell_type": "code",
      "source": [
        "!gdown 18KQMdRB7yylT0QKk_dXs2m7fViPaZaLu"
      ],
      "metadata": {
        "colab": {
          "base_uri": "https://localhost:8080/"
        },
        "id": "POqHseJmnBiR",
        "outputId": "f2e0aa78-3114-4129-b551-7ac2ebe90973"
      },
      "execution_count": null,
      "outputs": [
        {
          "output_type": "stream",
          "name": "stdout",
          "text": [
            "Downloading...\n",
            "From: https://drive.google.com/uc?id=18KQMdRB7yylT0QKk_dXs2m7fViPaZaLu\n",
            "To: /content/Math_Class 1_FLN.pdf\n",
            "100% 5.11M/5.11M [00:00<00:00, 14.0MB/s]\n"
          ]
        }
      ]
    },
    {
      "cell_type": "code",
      "source": [
        "text = textract.process(\"/content/Math_Class 1_FLN.pdf\", language='ory')\n",
        "print(text.decode('utf-8'))"
      ],
      "metadata": {
        "colab": {
          "base_uri": "https://localhost:8080/"
        },
        "id": "hwqjrsLdu1YH",
        "outputId": "2e94f835-2a33-406f-9053-7a980e8e3eb1"
      },
      "execution_count": null,
      "outputs": [
        {
          "output_type": "stream",
          "name": "stdout",
          "text": [
            "ପ୍ରଥମ ଶ୍ରେଣୀ\n",
            "\n",
            "ବିଷୟ- ଗଣିତ\n",
            "\n",
            "୧) ଚିତ୍ରରେ ଦିଆଯାଇଥିବା ବସ୍ତୁ ଗଣି ଲେଖ ।\n",
            "\n",
            "୨) ସଂଖ୍ୟାର ନାମ ଶୁଣି ସଂଖ୍ୟାଟି ଲେଖ ।\n",
            "\n",
            "୩) ଚିତ୍ର ଦେଖି କେଉଁଥିରେ କେତେ ଫୁ ଲ ଅଛି ଗଣ ଓ ବେଶୀ ଥିବା ଟୋକେଇକୁ ଗୋଲ\n",
            "କର ।\n",
            "\n",
            "୪) ଦୁ ଇଟି ଦଳରେ ଥିବା କଲମର ଯୋଗଫଳ କେତେ ହେବ ଲେଖ ।\n",
            "\n",
            "\f୫) ପ୍ରଥମ ଟୋକେଇରେ ଥିବା କମଳାରୁ ଦ୍ଵି ତୀୟ ଟୋକେଇରେ ଥିବା କମଳା ବିୟୋଗ\n",
            "କରି ଲେଖ ।\n",
            "\n",
            "୬) ତୁ ମ ପାଖରେ ୪ ଟି ଆମ୍ବ ଥିଲା ସୋନି ତୁ ମକୁ ଆଉ ୨ ଟି ଆମ୍ବ ଦେଲା । ତୁ ମ ପାଖରେ\n",
            "କେତୋଟି ଆମ୍ବ ହେଲା ?\n",
            "\n",
            "୭) ବସ୍ତୁଗୁଡ଼ିକୁ ଦେଖି ଏଥି ମଧ୍ୟରୁ କେଉଁଟି ଅଲଗା ତାହା ଗୋଲ କର ।\n",
            "\n",
            "୮) ଦିଆଯାଇଥିବା ବହିର ଲମ୍ବା କେତୋଟି ପେନସିଲ୍ ଅଟେ ।\n",
            "\n",
            "୯) ଚିତ୍ର ଦେଖି ସରଂଚନାକୁ ଆଗକୁ ବଢାଅ ।\n",
            "\n",
            "\f୧୦) ଗୋଲ ଆକୃ ତି ଚିତ୍ର କର ।\n",
            "\n",
            "୧୧) ଚିତ୍ର ଦେଖି କେତେ ଟଙ୍କା ଅଛି ହିସାବ କରି ଲେଖ ।\n",
            "\n",
            "୧୨) ଖାଲି ସ୍ଥାନରେ ଦିଆଯାଇଥିବା ସଂଖ୍ୟାର ପୂର୍ବବର୍ତ୍ତୀ ଓ ପରବର୍ତ୍ତୀ ସଂଖ୍ୟା ଲେଖ ।\n",
            "\n",
            "୭\n",
            "୧୩) ସପ୍ତାହର ଦୁ ଇଟି ନାମ ଲେଖ ।\n",
            "\n",
            "୧୪) ଦୁ ଇଟି ମାସର ନାମ ଲେଖ ।\n",
            "\n",
            "୧୫) ଶୂନ ସୂଚାଉଥିବା ସ୍ଥାନରେ\n",
            "ଠିକ୍ ଚିହ୍ନ ଦିଅ ।\n",
            "\n",
            "\f\n"
          ]
        }
      ]
    },
    {
      "cell_type": "code",
      "source": [
        "def extract_and_translate(file_path, source_lang='auto', target_lang='en'):\n",
        "    \"\"\"\n",
        "    Extracts text from a file using Textract and translates it using Google Translate.\n",
        "\n",
        "    Args:\n",
        "        file_path: Path to the file.\n",
        "        source_lang: Source language (default: 'auto' for automatic detection).\n",
        "        target_lang: Target language (default: 'en' for English).\n",
        "\n",
        "    Returns:\n",
        "        Translated text.\n",
        "    \"\"\"\n",
        "    text = textract.process(file_path, language=source_lang)\n",
        "    text = text.decode('utf-8')\n",
        "    print(text)\n",
        "\n",
        "    # 2. Initialize Google Translate\n",
        "    translator = Translator()\n",
        "\n",
        "    # 3. Translate the text\n",
        "    translated = translator.translate(text, src='or', dest=target_lang)\n",
        "\n",
        "    # 4. Return translated text\n",
        "    return translated.text\n",
        "\n",
        "# Example usage\n",
        "file_path = '/content/Math_Class 1_FLN.pdf'\n",
        "translated_text = extract_and_translate(file_path, source_lang='ory', target_lang='en')\n",
        "print(translated_text)"
      ],
      "metadata": {
        "colab": {
          "base_uri": "https://localhost:8080/"
        },
        "id": "hXTsaNtPwgZD",
        "outputId": "76734f2f-7a02-4407-caac-057b168ef9a5"
      },
      "execution_count": null,
      "outputs": [
        {
          "output_type": "stream",
          "name": "stdout",
          "text": [
            "ପ୍ରଥମ ଶ୍ରେଣୀ\n",
            "\n",
            "ବିଷୟ- ଗଣିତ\n",
            "\n",
            "୧) ଚିତ୍ରରେ ଦିଆଯାଇଥିବା ବସ୍ତୁ ଗଣି ଲେଖ ।\n",
            "\n",
            "୨) ସଂଖ୍ୟାର ନାମ ଶୁଣି ସଂଖ୍ୟାଟି ଲେଖ ।\n",
            "\n",
            "୩) ଚିତ୍ର ଦେଖି କେଉଁଥିରେ କେତେ ଫୁ ଲ ଅଛି ଗଣ ଓ ବେଶୀ ଥିବା ଟୋକେଇକୁ ଗୋଲ\n",
            "କର ।\n",
            "\n",
            "୪) ଦୁ ଇଟି ଦଳରେ ଥିବା କଲମର ଯୋଗଫଳ କେତେ ହେବ ଲେଖ ।\n",
            "\n",
            "\f୫) ପ୍ରଥମ ଟୋକେଇରେ ଥିବା କମଳାରୁ ଦ୍ଵି ତୀୟ ଟୋକେଇରେ ଥିବା କମଳା ବିୟୋଗ\n",
            "କରି ଲେଖ ।\n",
            "\n",
            "୬) ତୁ ମ ପାଖରେ ୪ ଟି ଆମ୍ବ ଥିଲା ସୋନି ତୁ ମକୁ ଆଉ ୨ ଟି ଆମ୍ବ ଦେଲା । ତୁ ମ ପାଖରେ\n",
            "କେତୋଟି ଆମ୍ବ ହେଲା ?\n",
            "\n",
            "୭) ବସ୍ତୁଗୁଡ଼ିକୁ ଦେଖି ଏଥି ମଧ୍ୟରୁ କେଉଁଟି ଅଲଗା ତାହା ଗୋଲ କର ।\n",
            "\n",
            "୮) ଦିଆଯାଇଥିବା ବହିର ଲମ୍ବା କେତୋଟି ପେନସିଲ୍ ଅଟେ ।\n",
            "\n",
            "୯) ଚିତ୍ର ଦେଖି ସରଂଚନାକୁ ଆଗକୁ ବଢାଅ ।\n",
            "\n",
            "\f୧୦) ଗୋଲ ଆକୃ ତି ଚିତ୍ର କର ।\n",
            "\n",
            "୧୧) ଚିତ୍ର ଦେଖି କେତେ ଟଙ୍କା ଅଛି ହିସାବ କରି ଲେଖ ।\n",
            "\n",
            "୧୨) ଖାଲି ସ୍ଥାନରେ ଦିଆଯାଇଥିବା ସଂଖ୍ୟାର ପୂର୍ବବର୍ତ୍ତୀ ଓ ପରବର୍ତ୍ତୀ ସଂଖ୍ୟା ଲେଖ ।\n",
            "\n",
            "୭\n",
            "୧୩) ସପ୍ତାହର ଦୁ ଇଟି ନାମ ଲେଖ ।\n",
            "\n",
            "୧୪) ଦୁ ଇଟି ମାସର ନାମ ଲେଖ ।\n",
            "\n",
            "୧୫) ଶୂନ ସୂଚାଉଥିବା ସ୍ଥାନରେ\n",
            "ଠିକ୍ ଚିହ୍ନ ଦିଅ ।\n",
            "\n",
            "\f\n",
            "First grade\n",
            "\n",
            "Subject- mathematics\n",
            "\n",
            "1) Write the result given in the picture.\n",
            "\n",
            "2) Write the number of the number of the number of number.\n",
            "\n",
            "3) Seeing the basket of how many gates for how many voltings of the death and an wormy with children.\n",
            "Do.\n",
            "\n",
            "୪ Write here will be a housell of pen in the morning.\n",
            "\n",
            "\f5.5) Almoted by 50) since the first basakes in the first basket in the lower basket\n",
            "Write and write.\n",
            "\n",
            "In the 4 of 4 could bes of the spales was 4. You gave up 2.On the death\n",
            "How much is the mango?\n",
            "\n",
            "Ven and see which of these is different.\n",
            "\n",
            "୮୮ So much of ties that are given to book is pancails.\n",
            "\n",
            "For I) seeing secments to see pictures.\n",
            "\n",
            "\fFigure 10) goals.\n",
            "\n",
            "11) Write how much money at see how to see the picture.\n",
            "\n",
            "12) Reperlose and text numbers and subscriped into the number of tined space.\n",
            "\n",
            "4.\n",
            "13) Write the name of the week.\n",
            "\n",
            "27) 'Name of power.\n",
            "\n",
            "At the place where zero indicate\n",
            "Like the correct sign.\n"
          ]
        }
      ]
    }
  ]
}